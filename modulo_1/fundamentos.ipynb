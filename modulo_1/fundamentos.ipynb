{
 "cells": [
  {
   "cell_type": "markdown",
   "metadata": {},
   "source": [
    "## ¿Que es una variable?"
   ]
  },
  {
   "cell_type": "markdown",
   "metadata": {},
   "source": [
    "#### Numeros reales"
   ]
  },
  {
   "cell_type": "code",
   "execution_count": 2,
   "metadata": {},
   "outputs": [
    {
     "name": "stdout",
     "output_type": "stream",
     "text": [
      "(8+5j)\n"
     ]
    }
   ],
   "source": [
    "a = 3 + 5j\n",
    "b=5\n",
    "print(a+b)"
   ]
  },
  {
   "cell_type": "markdown",
   "metadata": {},
   "source": [
    "#### Strings"
   ]
  },
  {
   "cell_type": "code",
   "execution_count": 4,
   "metadata": {},
   "outputs": [
    {
     "name": "stdout",
     "output_type": "stream",
     "text": [
      "adiosmundo\n"
     ]
    }
   ],
   "source": [
    "a=\"adios\"\n",
    "print(a+\" mundo\")"
   ]
  },
  {
   "cell_type": "markdown",
   "metadata": {},
   "source": [
    "#### Convertir variables"
   ]
  },
  {
   "cell_type": "code",
   "execution_count": 5,
   "metadata": {},
   "outputs": [
    {
     "name": "stdout",
     "output_type": "stream",
     "text": [
      "3.14\n"
     ]
    }
   ],
   "source": [
    "variable_float = 3.14\n",
    "variable_float_convertida = str(variable_float)\n",
    "print(variable_float)"
   ]
  },
  {
   "cell_type": "markdown",
   "metadata": {},
   "source": [
    "#### Input"
   ]
  },
  {
   "cell_type": "code",
   "execution_count": 7,
   "metadata": {},
   "outputs": [
    {
     "name": "stdout",
     "output_type": "stream",
     "text": [
      "2.0\n",
      "No es string\n"
     ]
    }
   ],
   "source": [
    "edad = input(\"introduce el valor 1\")\n",
    "edad_2 = input(\"introduce el valor 2\")\n",
    "suma_input = float(edad)+float(edad_2)\n",
    "print(suma_input)\n",
    "\n",
    "if suma_input == str:\n",
    "    print(\"es string\")\n",
    "else:\n",
    "    print(\"No es string\")"
   ]
  },
  {
   "cell_type": "markdown",
   "metadata": {},
   "source": [
    "#### Dinemica: Clasificar si el numero es par\n"
   ]
  },
  {
   "cell_type": "code",
   "execution_count": 8,
   "metadata": {},
   "outputs": [
    {
     "name": "stdout",
     "output_type": "stream",
     "text": [
      "No es par\n"
     ]
    }
   ],
   "source": [
    "numero_ingresado = int(input(\"Introdusca un valor\"))\n",
    "if numero_ingresado%2==0:\n",
    "    print(\"El numero es par\")\n",
    "else:\n",
    "    print(\"No es par\")"
   ]
  },
  {
   "cell_type": "markdown",
   "metadata": {},
   "source": [
    "#### Variables multiples"
   ]
  },
  {
   "cell_type": "code",
   "execution_count": 10,
   "metadata": {},
   "outputs": [
    {
     "name": "stdout",
     "output_type": "stream",
     "text": [
      "1 2 3\n"
     ]
    }
   ],
   "source": [
    "coordenadas = input(\"introduzca coordenadas separadas por comas:\")\n",
    "x,y,z = coordenadas.split(\",\")\n",
    "print(x,y,z)"
   ]
  },
  {
   "cell_type": "markdown",
   "metadata": {},
   "source": [
    "#### Darle sentido a las variables"
   ]
  },
  {
   "cell_type": "markdown",
   "metadata": {},
   "source": [
    "###### Cuantitiativa"
   ]
  },
  {
   "cell_type": "code",
   "execution_count": 11,
   "metadata": {},
   "outputs": [
    {
     "name": "stdout",
     "output_type": "stream",
     "text": [
      "la densidad media es:  5.82  g/cm3\n"
     ]
    }
   ],
   "source": [
    "densidad_1=1.25\n",
    "densidad_2=1.5\n",
    "densidad_3=1.8\n",
    "densidad_4=1.27\n",
    "\n",
    "densidad_media=densidad_1+densidad_2+densidad_3+densidad_4\n",
    "print(\"la densidad media es: \",densidad_media,\" g/cm3\")"
   ]
  },
  {
   "cell_type": "markdown",
   "metadata": {},
   "source": [
    "###### Cualitativa\n"
   ]
  },
  {
   "cell_type": "code",
   "execution_count": 12,
   "metadata": {},
   "outputs": [
    {
     "name": "stdout",
     "output_type": "stream",
     "text": [
      "La densidad de roca_1 es 1.25\n"
     ]
    }
   ],
   "source": [
    "roca_1=\"roca_1\"\n",
    "roca_2=\"roca_2\"\n",
    "roca_3=\"roca_3\"\n",
    "roca_4=\"roca_4\"\n",
    "\n",
    "print(\"La densidad de\",roca_1,\"es\",densidad_1)"
   ]
  },
  {
   "cell_type": "markdown",
   "metadata": {},
   "source": [
    "#### F-Strings"
   ]
  }
 ],
 "metadata": {
  "kernelspec": {
   "display_name": "ambiente_curso",
   "language": "python",
   "name": "python3"
  },
  "language_info": {
   "codemirror_mode": {
    "name": "ipython",
    "version": 3
   },
   "file_extension": ".py",
   "mimetype": "text/x-python",
   "name": "python",
   "nbconvert_exporter": "python",
   "pygments_lexer": "ipython3",
   "version": "3.10.13"
  }
 },
 "nbformat": 4,
 "nbformat_minor": 2
}
