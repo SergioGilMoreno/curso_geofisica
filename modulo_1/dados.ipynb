{
 "cells": [
  {
   "cell_type": "markdown",
   "metadata": {},
   "source": [
    "# Ejercicio Clase 4"
   ]
  },
  {
   "cell_type": "code",
   "execution_count": 3,
   "metadata": {},
   "outputs": [
    {
     "name": "stdout",
     "output_type": "stream",
     "text": [
      "Lanzamiento 1\n",
      "Dado 1 = 6\n",
      "Dado 2 = 3\n",
      "Dado 3 = 1\n",
      "Suma total = 10\n",
      "\n",
      "Lanzamiento 2\n",
      "Dado 1 = 2\n",
      "Dado 2 = 1\n",
      "Dado 3 = 3\n",
      "Suma total = 6\n",
      "\n",
      "Lanzamiento 3\n",
      "Dado 1 = 4\n",
      "Dado 2 = 4\n",
      "Dado 3 = 1\n",
      "Suma total = 9\n",
      "\n",
      "Lanzamiento 4\n",
      "Dado 1 = 6\n",
      "Dado 2 = 3\n",
      "Dado 3 = 4\n",
      "Suma total = 13\n",
      "\n",
      "Lanzamiento 5\n",
      "Dado 1 = 1\n",
      "Dado 2 = 5\n",
      "Dado 3 = 4\n",
      "Suma total = 10\n",
      "\n",
      "Lanzamiento 6\n",
      "Dado 1 = 4\n",
      "Dado 2 = 1\n",
      "Dado 3 = 3\n",
      "Suma total = 8\n",
      "\n"
     ]
    }
   ],
   "source": [
    "import numpy as np\n",
    "\n",
    "n_dados = int(input(\"Inserte el numero de dados\"))\n",
    "n_lanzamientos = int(input(\"Inserte el numero de lanzamientos\"))\n",
    "\n",
    "for i in range(n_lanzamientos):\n",
    "    suma_dados = 0\n",
    "    print(f\"Lanzamiento {i+1}\")\n",
    "    for j in range(n_dados):\n",
    "        numero_al_azar = np.random.randint(1, 7)\n",
    "        print(f\"Dado {j+1} = {numero_al_azar}\")\n",
    "        suma_dados = numero_al_azar + suma_dados\n",
    "    print(f\"Suma total = {suma_dados}\\n\")"
   ]
  }
 ],
 "metadata": {
  "kernelspec": {
   "display_name": "ambiente_curso",
   "language": "python",
   "name": "python3"
  },
  "language_info": {
   "codemirror_mode": {
    "name": "ipython",
    "version": 3
   },
   "file_extension": ".py",
   "mimetype": "text/x-python",
   "name": "python",
   "nbconvert_exporter": "python",
   "pygments_lexer": "ipython3",
   "version": "3.10.13"
  }
 },
 "nbformat": 4,
 "nbformat_minor": 2
}
